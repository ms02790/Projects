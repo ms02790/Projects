{
 "cells": [
  {
   "cell_type": "markdown",
   "metadata": {},
   "source": [
    "# Data Science Principles and Practices\n",
    "### Mehul Singh (6678794)"
   ]
  },
  {
   "cell_type": "code",
   "execution_count": 200,
   "metadata": {},
   "outputs": [],
   "source": [
    "# Importing libraries\n",
    "import scipy.stats\n",
    "import numpy as np\n",
    "import statsmodels.api as sm\n",
    "from statsmodels.api import Poisson\n",
    "import pandas as pd\n",
    "import matplotlib.pyplot as plt\n",
    "import warnings\n",
    "warnings.filterwarnings('ignore')"
   ]
  },
  {
   "cell_type": "markdown",
   "metadata": {},
   "source": [
    "# Task 1"
   ]
  },
  {
   "cell_type": "code",
   "execution_count": 198,
   "metadata": {},
   "outputs": [],
   "source": [
    "# Importing the dataset\n",
    "QD_sent_len = pd.read_csv('QuietDonSentenceLengths.csv', header = None)\n",
    "QD_sent_len = QD_sent_len[0].values.tolist()"
   ]
  },
  {
   "cell_type": "markdown",
   "metadata": {},
   "source": [
    "<b> The QuietDonSentenceLength.csv is a comma seperated file that consists of one column which contains the length of sentences in the book."
   ]
  },
  {
   "cell_type": "code",
   "execution_count": 141,
   "metadata": {},
   "outputs": [
    {
     "name": "stdout",
     "output_type": "stream",
     "text": [
      "12.67313829787234\n"
     ]
    }
   ],
   "source": [
    "print(np.mean(QD_sent_len))"
   ]
  },
  {
   "cell_type": "markdown",
   "metadata": {},
   "source": [
    "The mean of the data is found to be 12.67."
   ]
  },
  {
   "cell_type": "markdown",
   "metadata": {},
   "source": [
    "## Poisson Distribution\n",
    "\n",
    "The poisson distribution models the events that occur within a certain period of time. E(x) which is the expected number of events that is anticipated to remain constatnt throughout the modeling. The formula for poisson distribution is given as : \n",
    "\n",
    "p(x;$\\lambda$ )= $\\lambda {^x}*e{^-\\lambda}$/x!\n",
    "\n",
    "x = observed data point\n",
    "\n",
    "$\\lambda$ = E(x) = expected number of events"
   ]
  },
  {
   "cell_type": "code",
   "execution_count": 155,
   "metadata": {},
   "outputs": [
    {
     "name": "stdout",
     "output_type": "stream",
     "text": [
      "Optimization terminated successfully.\n",
      "         Current function value: 4.947456\n",
      "         Iterations 1\n",
      "                          Poisson Regression Results                          \n",
      "==============================================================================\n",
      "Dep. Variable:                      y   No. Observations:                 3760\n",
      "Model:                        Poisson   Df Residuals:                     3759\n",
      "Method:                           MLE   Df Model:                            0\n",
      "Date:                Wed, 02 Jun 2021   Pseudo R-squ.:                   0.000\n",
      "Time:                        04:04:23   Log-Likelihood:                -18602.\n",
      "converged:                       True   LL-Null:                       -18602.\n",
      "Covariance Type:            nonrobust   LLR p-value:                       nan\n",
      "==============================================================================\n",
      "                 coef    std err          z      P>|z|      [0.025      0.975]\n",
      "------------------------------------------------------------------------------\n",
      "const          2.5395      0.005    554.347      0.000       2.531       2.548\n",
      "==============================================================================\n"
     ]
    }
   ],
   "source": [
    "x = np.ones_like(QD_sent_len)\n",
    "result_poisson = sm.Poisson(QD_sent_len,x).fit()\n",
    "print(result_poisson.summary())"
   ]
  },
  {
   "cell_type": "markdown",
   "metadata": {},
   "source": [
    "## MLE (Poisson distribution)\n",
    "\n",
    "Maximum Likelihood Estimation estimates the values of parameters of a model that produces a curve that best fits the data. It aims to find parameters that maiximises the value of the likelihood function. The likelihood function is of observations for a random sample size n :\n",
    "\n",
    "$ L(\\theta) = f(x_1;\\theta)*...*f(x_n;\\theta)$\n",
    "\n",
    "Since Poisson distribution is governed by only parameter $\\mu$, which is both mean and variance.\n",
    "\n",
    "$ L(\\mu|x) =  p(x|\\mu)$\n",
    "\n",
    "$ L(\\mu|x) $ is the likelihood function, the value of which is to be maximised.\n",
    "\n",
    "$p(x|\\mu)$ is the probability density of the observed data based on the value of mean."
   ]
  },
  {
   "cell_type": "code",
   "execution_count": 123,
   "metadata": {},
   "outputs": [],
   "source": [
    "from scipy.stats import poisson\n",
    "def Log_likelihood_pd(mean):\n",
    "    loglikelihood = np.sum(poisson.logpmf(QD_sent_len,mean,loc=0))\n",
    "    return -loglikelihood"
   ]
  },
  {
   "cell_type": "markdown",
   "metadata": {},
   "source": [
    "The Log_likelihood_pd function evaluates the product of the distinct probilities in log form. To find the best estimate of the parameter (mean), the likelihood function is maximized. In order to maximize the likelihood, we need to minimize the loglikelihood. This is done using the minimize function from the scipy library."
   ]
  },
  {
   "cell_type": "code",
   "execution_count": 128,
   "metadata": {
    "scrolled": true
   },
   "outputs": [
    {
     "name": "stdout",
     "output_type": "stream",
     "text": [
      "[12.67313734]\n"
     ]
    }
   ],
   "source": [
    "from scipy.optimize import minimize\n",
    "minimize(Log_likelihood_pd,4)\n",
    "print(minimize(Log_likelihood_pd,4).x)"
   ]
  },
  {
   "cell_type": "markdown",
   "metadata": {},
   "source": [
    "From the above calculations, we found that the average length of the sentences in the book is 12.67."
   ]
  },
  {
   "cell_type": "code",
   "execution_count": 135,
   "metadata": {
    "scrolled": true
   },
   "outputs": [
    {
     "data": {
      "image/png": "[encoded data removed]",
      "text/plain": [
       "<Figure size 432x288 with 1 Axes>"
      ]
     },
     "metadata": {
      "needs_background": "light"
     },
     "output_type": "display_data"
    }
   ],
   "source": [
    "import matplotlib.pyplot as plt\n",
    "\n",
    "a = np.linspace(2,25,1000) \n",
    "\n",
    "b = [] # empty list\n",
    "for mean in a: # for each value of mean in a\n",
    "    b.append(-Log_likelihood_pd(mean)) # add Log_likelihood_pd(mean) to the empty list\n",
    "\n",
    "plt.plot(a,b) # plot the negative log likelihood\n",
    "plt.axvline(12.67314125,color='yellow') \n",
    "plt.xlabel(\"Range of value of parameter\")\n",
    "plt.ylabel(\"Corresponding Likelihood Estimates\")\n",
    "plt.show()"
   ]
  },
  {
   "cell_type": "markdown",
   "metadata": {},
   "source": [
    "The above graph depicts the variation of likelihood with the mean value of parameter. The range of mean values are chosen arbitrarily from 2 to 25. The yellow line is for the mean value of 12.673 which corresponds to the maximum likelihood estimate."
   ]
  },
  {
   "cell_type": "markdown",
   "metadata": {},
   "source": [
    "## Negative Binomial Distribution\n",
    "\n",
    "A negative binomial distribution models the number of outcomes in identical and independent distributed events until r successes are observed. It is governed by two parameters, namely, mean and shape parameter. The formula for negative binomial probability is given as :\n",
    "\n",
    "b(x;r;p) = $ C_{r-1}^{x-1} * p^r * (1-p)^{x-r} $\n",
    "\n",
    "where , \n",
    "\n",
    "x =  number of trials\n",
    "\n",
    "r = number of successes\n",
    "\n",
    "p = probability of success of a trial\n",
    "\n",
    "b = negative binomial probability"
   ]
  },
  {
   "cell_type": "code",
   "execution_count": 156,
   "metadata": {
    "scrolled": true
   },
   "outputs": [
    {
     "name": "stdout",
     "output_type": "stream",
     "text": [
      "Optimization terminated successfully.\n",
      "         Current function value: 3.417881\n",
      "         Iterations: 4\n",
      "         Function evaluations: 5\n",
      "         Gradient evaluations: 5\n",
      "                     NegativeBinomial Regression Results                      \n",
      "==============================================================================\n",
      "Dep. Variable:                      y   No. Observations:                 3760\n",
      "Model:               NegativeBinomial   Df Residuals:                     3759\n",
      "Method:                           MLE   Df Model:                            0\n",
      "Date:                Wed, 02 Jun 2021   Pseudo R-squ.:              -1.942e-12\n",
      "Time:                        04:04:56   Log-Likelihood:                -12851.\n",
      "converged:                       True   LL-Null:                       -12851.\n",
      "Covariance Type:            nonrobust   LLR p-value:                       nan\n",
      "==============================================================================\n",
      "                 coef    std err          z      P>|z|      [0.025      0.975]\n",
      "------------------------------------------------------------------------------\n",
      "const          2.5395      0.011    230.979      0.000       2.518       2.561\n",
      "alpha          0.3756      0.010     36.527      0.000       0.355       0.396\n",
      "==============================================================================\n",
      "[2.53948466 0.37559244]\n"
     ]
    }
   ],
   "source": [
    "from statsmodels.discrete.discrete_model import NegativeBinomial\n",
    "x = np.ones_like(QD_sent_len)\n",
    "result_negativebinomial = sm.NegativeBinomial(QD_sent_len, x).fit()\n",
    "print(result_negativebinomial.summary())\n",
    "print(result_negativebinomial.params)"
   ]
  },
  {
   "cell_type": "markdown",
   "metadata": {},
   "source": [
    "The alpha and beta coefficients values are 0.375 and 2.539 respectively for the negative binomial distribution.\n",
    "\n",
    "The alpha value represents the dispersion parameter's estimate. The model is reduced to simplified poisson model when the dispersion value equals to zero. The data is over dispersed if the alpha value is significantly greater than zero. In such a case a negative binomial model is preferred over poisson model for esimation.\n"
   ]
  },
  {
   "cell_type": "code",
   "execution_count": 140,
   "metadata": {
    "scrolled": true
   },
   "outputs": [
    {
     "name": "stdout",
     "output_type": "stream",
     "text": [
      " Log Likelihood : 12851.231565816006\n",
      " Mean : 12.673138297872342\n"
     ]
    }
   ],
   "source": [
    "print(\" Mean :\", np.exp(result_negativebinomial.params[0]))"
   ]
  },
  {
   "cell_type": "markdown",
   "metadata": {},
   "source": [
    "The average expected length of sentences  is found to be 12.67 from maximum likelihood estimation of negative binomial distribution."
   ]
  },
  {
   "cell_type": "code",
   "execution_count": 157,
   "metadata": {},
   "outputs": [],
   "source": [
    "# Maximum likelihood estimation in negative binomial \n",
    "from scipy.stats import nbinom\n",
    "alpha = result_negativebinomial.params[1]\n",
    "def Log_likelihood_nb(mean):\n",
    "    r = 1/alpha\n",
    "    p = r/(r+mean)\n",
    "    loglikelihood = (nbinom.logpmf(QD_sent_len, r, p))\n",
    "    return -np.sum(loglikelihood)"
   ]
  },
  {
   "cell_type": "markdown",
   "metadata": {},
   "source": [
    "Negative Binomial takes two parameter, namely, r and p where r is the number of successes to be achieved and p is the probability of success of one trial. The mean is estimated assuming alpha value.\n",
    "\n",
    "The Log_likelihood_nb function evaluates the product of the distinct probilities in log form. To find the best estimate of the parameter (mean), the likelhood function is maximized. In order to maximise the likelihood, we need to minimise the loglikelihood. This is done using the minimize function from the scipy library."
   ]
  },
  {
   "cell_type": "code",
   "execution_count": 158,
   "metadata": {},
   "outputs": [
    {
     "name": "stdout",
     "output_type": "stream",
     "text": [
      "[12.67313664]\n"
     ]
    }
   ],
   "source": [
    "from scipy.optimize import minimize\n",
    "print(minimize(Log_likelihood_nb,3).x)"
   ]
  },
  {
   "cell_type": "markdown",
   "metadata": {},
   "source": [
    "From the above negative binomial regression calculations, we found that the average length of the sentences in the book is 12.67. Here, the parameter value does not change the estimate as the minimize function provides the best estimate."
   ]
  },
  {
   "cell_type": "code",
   "execution_count": 159,
   "metadata": {},
   "outputs": [
    {
     "data": {
      "image/png": "[encoded data removed]",
      "text/plain": [
       "<Figure size 432x288 with 1 Axes>"
      ]
     },
     "metadata": {
      "needs_background": "light"
     },
     "output_type": "display_data"
    }
   ],
   "source": [
    "import matplotlib.pyplot as plt\n",
    "\n",
    "a = np.linspace(2,25,1000) \n",
    "\n",
    "b = [] # empty list\n",
    "for mean in a: \n",
    "    b.append(-Log_likelihood_nb(mean)) # add Log_likelihood_nb(mean) to empty list\n",
    "plt.plot(a,b) # plotting line for negative log likelihood\n",
    "plt.axvline(12.67313603,color='yellow') \n",
    "plt.ylabel(\" Corresponding Likelihood Estimates \")\n",
    "plt.xlabel(\"Range of value of parameter\")\n",
    "plt.show()"
   ]
  },
  {
   "cell_type": "markdown",
   "metadata": {},
   "source": [
    "The above graph depicts the variation of likelihood with the mean value of parameter. The range of mean values are chosen arbitrarily from 2 to 25. The yellow line is for the mean value of 12.673 which corresponds to the maximum likelihood estimate."
   ]
  },
  {
   "cell_type": "raw",
   "metadata": {},
   "source": [
    "## Comparison of the two distributions\n",
    "\n",
    "Negative binomial distribution is found to be the better fit for the data as evident from the alpha value of the negative binomial model. As the alpha value is greater than zero, the data is over dispersed and therefore, a negative binomial distribution better fits the data than a poisson distribution.\n",
    "\n",
    "## AIC value comaprison\n",
    "\n",
    "The Akaike Information Criterion is a metric that comapres how several statistical models fit the data. The smaller value of AIC, the better the model. Mathematically, the formula is given as :\n",
    "\n",
    "$ AIC = 2k - 2 log L(\\theta|x) $ \n",
    "\n",
    "where,\n",
    "\n",
    "x = observed data\n",
    "\n",
    "k = number of parameters\n",
    "\n",
    "$\\theta$ = MLE of the parameter\n",
    "\n",
    "$L(\\theta|x)$ = likelihood of the model"
   ]
  },
  {
   "cell_type": "code",
   "execution_count": 199,
   "metadata": {},
   "outputs": [
    {
     "name": "stdout",
     "output_type": "stream",
     "text": [
      "Negative Binomial distribution AIC: 25706.463131632012\n",
      "Poisson distribution AIC: 37206.86706437265\n"
     ]
    }
   ],
   "source": [
    "print(\"Negative Binomial distribution AIC:\",result_negativebinomial.aic)\n",
    "print(\"Poisson distribution AIC:\",result_poisson.aic)"
   ]
  },
  {
   "cell_type": "markdown",
   "metadata": {},
   "source": [
    "The above AIC scores conclude that negative binomial distribution is the better fit for the dataset in comparison to Poisson distribution."
   ]
  },
  {
   "cell_type": "markdown",
   "metadata": {
    "scrolled": true
   },
   "source": [
    "## Maximum a posteriori inference\n",
    "\n",
    "MAP inference aims to find the parameter values that maximizes teh posterior distribution. It produces single value estimates similar to MLE. <b> But MAP tries to maximize the posterior ditribution while MLE tries to maximize the likelihood function.<b> \n",
    "    \n",
    "    The posterior probability is given as :\n",
    " \n",
    "$p(\\theta|x) \\propto  p(x|\\theta) * p(\\theta)$\n",
    "    \n",
    "    where,\n",
    "    \n",
    "$p(\\theta|x) $ is the posterior probability   \n",
    "    \n",
    "$p(x|\\theta)$ is the likelihood\n",
    "    \n",
    "$p(\\theta)$ is prior distribution"
   ]
  },
  {
   "cell_type": "markdown",
   "metadata": {},
   "source": [
    "If the prior distribution is unifor (flat) than, MLE is equivalent to MAP.\n",
    "Posterior probability represnts our belief about the parameter values taking some evidence (some observed data) into account."
   ]
  },
  {
   "cell_type": "code",
   "execution_count": 180,
   "metadata": {},
   "outputs": [],
   "source": [
    "from scipy.stats import gamma\n",
    "def max_post_poisson(mean):\n",
    "    loglikelihood_p = np.sum(poisson.logpmf(QD_sent_len,mean,loc=0))\n",
    "    prior_p = gamma.logpdf(mean,3,loc=0.1,scale=0.1)\n",
    "    return -(loglikelihood_p+prior_p)\n"
   ]
  },
  {
   "cell_type": "code",
   "execution_count": 186,
   "metadata": {},
   "outputs": [
    {
     "data": {
      "image/png": "[encoded data removed]",
      "text/plain": [
       "<Figure size 432x288 with 1 Axes>"
      ]
     },
     "metadata": {
      "needs_background": "light"
     },
     "output_type": "display_data"
    }
   ],
   "source": [
    "a = np.linspace(3,30,1000) \n",
    "# data length = 3 to 30.\n",
    "\n",
    "b = [] # empty list \n",
    "for mean in a: # for each value of mu in the range\n",
    "    b.append(-max_post(mean)) # append to the empty list\n",
    "\n",
    "plt.plot(a,b) # plot negative log likelihood\n",
    "\n",
    "poisson_map = minimize(max_post_poisson,3).x\n",
    "poisson_mle = minimize (Log_likelihood_pd,3).x\n",
    "plt.axvline(poisson_mle,color='red') \n",
    "plt.axvline(poisson_map,color='purple')\n",
    "plt.xlabel('Range of mean')\n",
    "plt.ylabel(' Estimates')\n",
    "plt.title('Comparison of MLE and MAP')\n",
    "plt.show()"
   ]
  },
  {
   "cell_type": "markdown",
   "metadata": {},
   "source": [
    "The purple line represents the MAP estimate while the red line represents the maximum likelihood estimate. Both estimate are situated around the mean value (12.67) which concludes that the expected average length of sentences is around 12.7 in the 'Quiet Flows the Don'."
   ]
  },
  {
   "cell_type": "markdown",
   "metadata": {},
   "source": [
    "# TASK 2"
   ]
  },
  {
   "cell_type": "markdown",
   "metadata": {},
   "source": [
    "The ATLAS-data.csv contains 29 features for 10000 events which are represented by columns and rows respectively."
   ]
  },
  {
   "cell_type": "code",
   "execution_count": 197,
   "metadata": {},
   "outputs": [
    {
     "name": "stdout",
     "output_type": "stream",
     "text": [
      "        0       1        2        3      4        5      6      7       8   \\\n",
      "0  243.128  96.455  158.618   90.253  0.693   56.238  1.581  3.615  13.597   \n",
      "1  139.751  74.028  111.619   44.266  2.119  104.723 -0.498  2.533   9.437   \n",
      "2  116.217  73.136   59.239  101.850  0.625   85.539  2.979  1.922  28.049   \n",
      "3   64.544   0.099   28.945  341.418  2.390  358.936 -1.181  0.714  35.293   \n",
      "4   32.281  67.393   26.006   29.088  1.330  108.191 -0.362  0.846  48.389   \n",
      "\n",
      "        9   ...       19     20       21       22     23     24      25  \\\n",
      "0  264.586  ...   72.877  2.121  376.410   46.248 -0.958 -0.444  42.759   \n",
      "1  168.638  ...   20.147  0.447  252.698   36.798  0.269 -1.254  31.816   \n",
      "2  202.636  ...   68.144  1.816  271.485   82.453  2.066 -1.210  58.216   \n",
      "3  508.349  ...  243.099 -2.409  470.806  331.152 -1.693  0.615  41.742   \n",
      "4  152.087  ...   32.186 -1.421  244.220   48.198  0.949  1.517  40.382   \n",
      "\n",
      "      26     27       28  \n",
      "0 -1.651 -1.445  157.638  \n",
      "1 -1.849  0.664   68.614  \n",
      "2  1.442 -2.288  140.669  \n",
      "3  0.697  1.083  409.977  \n",
      "4 -0.382 -2.029   88.580  \n",
      "\n",
      "[5 rows x 29 columns]\n"
     ]
    }
   ],
   "source": [
    "Atlas_data = pd.read_csv('ATLAS-data.csv',header = None,delimiter=',')\n",
    "print(Atlas_data.head())"
   ]
  },
  {
   "cell_type": "markdown",
   "metadata": {},
   "source": [
    "The Atlas-labels.csv contains the label for each event in Atlas-data.csv, in the same order. Label 0 corresponds to background events and label 1 to signal."
   ]
  },
  {
   "cell_type": "code",
   "execution_count": 193,
   "metadata": {},
   "outputs": [
    {
     "name": "stdout",
     "output_type": "stream",
     "text": [
      "0    5312\n",
      "1    4688\n",
      "Name: 0, dtype: int64\n"
     ]
    }
   ],
   "source": [
    "Atlas_labels = pd.read_csv('ATLAS-labels.csv',header = None,delimiter=',')\n",
    "print(Atlas_labels[0].value_counts())"
   ]
  },
  {
   "cell_type": "code",
   "execution_count": 194,
   "metadata": {},
   "outputs": [
    {
     "name": "stdout",
     "output_type": "stream",
     "text": [
      "AxesSubplot(0.125,0.125;0.775x0.755)\n"
     ]
    },
    {
     "data": {
      "image/png": "[encoded data removed]",
      "text/plain": [
       "<Figure size 432x288 with 1 Axes>"
      ]
     },
     "metadata": {
      "needs_background": "light"
     },
     "output_type": "display_data"
    }
   ],
   "source": [
    "# The bar plot for the output label shows that the dataset is balanced.\n",
    "print(Atlas_labels[0].value_counts().plot.bar())"
   ]
  },
  {
   "cell_type": "code",
   "execution_count": 11,
   "metadata": {},
   "outputs": [],
   "source": [
    "# Scaling converts the input data so that the data has a mean value of zero and standard deviation value of 1.\n",
    "# Scaling makes the unitless and is done to get better performance from the model.\n",
    "from sklearn.preprocessing import scale\n",
    "Atlas_scaled_data = scale(Atlas_data)\n",
    "Atlas_scaled_data = pd.DataFrame(Atlas_scaled_data)"
   ]
  },
  {
   "cell_type": "code",
   "execution_count": 87,
   "metadata": {},
   "outputs": [],
   "source": [
    "# Splitting the data into train and test data.\n",
    "from sklearn.model_selection import train_test_split\n",
    "x_train, x_test, y_train, y_test = train_test_split(Atlas_scaled_data,Atlas_labels,test_size=0.3,stratify=Atlas_labels)"
   ]
  },
  {
   "cell_type": "markdown",
   "metadata": {},
   "source": [
    "# Naive Bayes Classification\n",
    "    \n",
    "<b>   Naive Bayes classifier is a probabilistic machine learning model that is based on Bayes theorem and is utilised to perform classification. It predicts the probablity of a class using the given value of features. The probability is predicted using Bayes rule.\n",
    "   \n",
    "$ p(c_{k}|x_{i}) \\propto p(x_{i}|c_{k})p(c_{k}) $\n",
    "    where, \n",
    "    \n",
    "    \n",
    "$p(c_{k})$ = Prior probability \n",
    "\n",
    "$p(x_{i}|c_{k})$ = Likelihood gives the probability of a data point assuming that it belongs to class k.\n",
    "\n",
    "$ p(c_{k}|x_{i})$ = Posterior probaility\n",
    "    \n",
    "The prior probability represents our belief about the data before any evidence is taken into acount. It gives the probability of data point belonging to a particular class k. The liklihood probaility provides the likelihood do a data point assuming that it belongs to class k. Finally, the posterior probability is calculated using the prior updated with likelihood. It is basically the probability of a data point belonging to class k when some evidence is taken into account.\n",
    "    \n",
    "Naive Bayes also assumes that the data follows normal gaussian distribution and all input features are independent of each other."
   ]
  },
  {
   "cell_type": "code",
   "execution_count": 88,
   "metadata": {},
   "outputs": [],
   "source": [
    "# Libraries required for Naive Bayes model.\n",
    "import sklearn\n",
    "from sklearn.datasets import make_blobs\n",
    "from sklearn.naive_bayes import GaussianNB"
   ]
  },
  {
   "cell_type": "code",
   "execution_count": 195,
   "metadata": {},
   "outputs": [
    {
     "name": "stdout",
     "output_type": "stream",
     "text": [
      "GaussianNB()\n"
     ]
    }
   ],
   "source": [
    "#Training the Naive Bayes model\n",
    "naive_bayes_classifier = GaussianNB()\n",
    "print(naive_bayes_classifier.fit(x_train,y_train[0]))"
   ]
  },
  {
   "cell_type": "code",
   "execution_count": 90,
   "metadata": {},
   "outputs": [],
   "source": [
    "# Prediction of Naive Bayes Model\n",
    "naive_bayes_predictions = naive_bayes_classifier.predict(x_test)"
   ]
  },
  {
   "cell_type": "markdown",
   "metadata": {},
   "source": [
    "## Confusion Matrix\n",
    "\n",
    " A confusion matrix is plotted to evaluate the performance of the model. It consists of True positive, True negative, False positive and, False negative and is used to calculate precision and accuracy along with some more metrics."
   ]
  },
  {
   "cell_type": "code",
   "execution_count": 91,
   "metadata": {},
   "outputs": [],
   "source": [
    "from sklearn import metrics\n",
    "confusion_matrix_nb = metrics.confusion_matrix(y_test, naive_bayes_predictions)"
   ]
  },
  {
   "cell_type": "code",
   "execution_count": 92,
   "metadata": {},
   "outputs": [],
   "source": [
    "# Libraries to plot Confusion matrix\n",
    "import numpy as np\n",
    "import matplotlib.pyplot as plt\n",
    "import seaborn as sns\n",
    "%matplotlib inline"
   ]
  },
  {
   "cell_type": "code",
   "execution_count": 187,
   "metadata": {},
   "outputs": [
    {
     "data": {
      "image/png": "[encoded data removed]",
      "text/plain": [
       "<Figure size 432x288 with 2 Axes>"
      ]
     },
     "metadata": {
      "needs_background": "light"
     },
     "output_type": "display_data"
    }
   ],
   "source": [
    "# Plotting Confusion Matrix\n",
    "class_names=[0,1] # classes\n",
    "fig, ax = plt.subplots()\n",
    "tick_marks = np.arange(len(class_names))\n",
    "plt.xticks(tick_marks, class_names)\n",
    "plt.yticks(tick_marks, class_names)\n",
    "# create heatmap\n",
    "sns.heatmap(pd.DataFrame(confusion_matrix_nb), annot=True, cmap=\"YlGn\" ,fmt='g')\n",
    "ax.xaxis.set_label_position(\"top\")\n",
    "plt.tight_layout()\n",
    "plt.title('Confusion Matrix for Naive Bayess', y=1.1)\n",
    "plt.ylabel('Actual label')\n",
    "plt.xlabel('Predicted labels')\n",
    "plt.show()"
   ]
  },
  {
   "cell_type": "markdown",
   "metadata": {},
   "source": [
    "The values in the confusion matrix shows that the classifier performs fairly well. The confusion matrix for logistic regression shows that the model misclassified more number of labels 1 in comparison to label 0.\n",
    "\n",
    "### Evaluation metrics\n",
    "\n",
    "The following metrics were used to evaluate the model : "
   ]
  },
  {
   "cell_type": "code",
   "execution_count": 113,
   "metadata": {},
   "outputs": [
    {
     "name": "stdout",
     "output_type": "stream",
     "text": [
      "              precision    recall  f1-score   support\n",
      "\n",
      "           0       0.79      0.72      0.75      1594\n",
      "           1       0.71      0.79      0.75      1406\n",
      "\n",
      "    accuracy                           0.75      3000\n",
      "   macro avg       0.75      0.75      0.75      3000\n",
      "weighted avg       0.75      0.75      0.75      3000\n",
      "\n"
     ]
    }
   ],
   "source": [
    "print(classification_report(y_test,naive_bayes_predictions))"
   ]
  },
  {
   "cell_type": "code",
   "execution_count": 114,
   "metadata": {},
   "outputs": [
    {
     "name": "stdout",
     "output_type": "stream",
     "text": [
      "Accuracy for Naive Bayes model: 0.7496666666666667\n",
      "Precision for Naive Bayes model: 0.7095329494561741\n",
      "Recall for Naive Bayes model: 0.7887624466571835\n",
      "F1 score for Naive Bayes model: 0.7470528797574942\n"
     ]
    }
   ],
   "source": [
    "print(\"Accuracy for Naive Bayes model:\",metrics.accuracy_score(y_test, naive_bayes_predictions))\n",
    "print(\"Precision for Naive Bayes model:\",metrics.precision_score(y_test, naive_bayes_predictions))\n",
    "print(\"Recall for Naive Bayes model:\",metrics.recall_score(y_test, naive_bayes_predictions))\n",
    "print(\"F1 score for Naive Bayes model:\",metrics.f1_score(y_test, naive_bayes_predictions))"
   ]
  },
  {
   "cell_type": "markdown",
   "metadata": {},
   "source": [
    " Accuracy is the ratio of True positives to the total number events observed. Mathematically, it is given as : (TP+TN)/(TP+FP+FN+TN)\n",
    "    \n",
    " Precision gives information about what proportion of predicted labels were correctly classified. Mathematically given as : (TP)/(TP+FP)\n",
    "       \n",
    " Recall provides information about what proportion of actual positives were correctly classified. Mathematically, it is given as : (TP)/(TP+FN)\n",
    " \n",
    "### ROC Curve\n",
    "\n",
    "The receiver operating characteristic curve plots the true positive rate versus false positive rate and is a common metric for comparison of classification models."
   ]
  },
  {
   "cell_type": "code",
   "execution_count": 96,
   "metadata": {},
   "outputs": [],
   "source": [
    "#Plotting the ROC curve.\n",
    "from sklearn import metrics\n",
    "# calculate roc curve\n",
    "fpr_naive_bayes, tpr_naive_bayes, threshold = metrics.roc_curve(y_test, naive_bayes_predictions)\n",
    "roc_auc_nb = metrics.auc(fpr_naive_bayes, tpr_naive_bayes)"
   ]
  },
  {
   "cell_type": "code",
   "execution_count": 97,
   "metadata": {},
   "outputs": [
    {
     "data": {
      "image/png": "[encoded data removed]",
      "text/plain": [
       "<Figure size 432x288 with 1 Axes>"
      ]
     },
     "metadata": {
      "needs_background": "light"
     },
     "output_type": "display_data"
    }
   ],
   "source": [
    "plt.title('Receiver Operating Characteristic for Naive Bayes Classifier')\n",
    "plt.plot(fpr_naive_bayes, tpr_naive_bayes, 'b', label = 'AUC = %0.2f' % roc_auc_nb)\n",
    "plt.legend(loc = 'lower right')\n",
    "#No skill classifier\n",
    "plt.plot([0, 1], [0, 1],'g--')\n",
    "plt.xlim([0, 1])\n",
    "plt.ylim([0, 1])\n",
    "plt.ylabel('True Positive Rate')\n",
    "plt.xlabel('False Positive Rate')\n",
    "plt.axvline(x=0.3,color=\"red\")\n",
    "plt.show()"
   ]
  },
  {
   "cell_type": "markdown",
   "metadata": {},
   "source": [
    "In the above plot, the green line represents the no-skill classifier. A no-skill classifier is unable to distinguish between classes and predicts a constant or random class for each event. It is generally represented by a diagonal line in the ROC plot. The blue line represents the ROC curve for Naive Bayes model and the red line shows the optimum value of true positive rate. Additionally, AUC value is also given. AUC stands for area under the ROC curve and is a two dimensional measurment of the area beneath the ROC curve.\n",
    "\n",
    "## K Fold Cross Validation\n",
    "\n",
    "K Fold Cross Validation is a method in which the dataset is divided into k sets or folds where in each iteration, a new fold is used as testing data while the other folds are used as training data. The model accuracy is the average of the accuracy obtained in each iteration. "
   ]
  },
  {
   "cell_type": "code",
   "execution_count": 110,
   "metadata": {},
   "outputs": [
    {
     "name": "stdout",
     "output_type": "stream",
     "text": [
      "Model accuracy obtained in Naive Bayes is:  0.7472\n",
      "Model variance : 0.005\n"
     ]
    }
   ],
   "source": [
    "from sklearn import model_selection\n",
    "\n",
    "KFold_CV_nb=model_selection.KFold(shuffle=True,n_splits=5,random_state=7)\n",
    "KFold_CV_Accuracy_nb=model_selection.cross_val_score(naive_bayes_classifier,Atlas_data,Atlas_labels[0],cv=5,scoring=\"accuracy\")\n",
    "print(\"Model accuracy obtained in Naive Bayes is: \", KFold_CV_Accuracy_nb.mean())\n",
    "print(\"Model variance : %.3f\"%np.std(KFold_CV_Accuracy_nb))"
   ]
  },
  {
   "cell_type": "markdown",
   "metadata": {},
   "source": [
    "# Logistic Regression Classification\n",
    "\n",
    "<b>  Logistic Regression is a classification algorithm which uses a logistic function to predict the output categorical variable. The logistic function used is the sigmoid function which is given as : \n",
    "$ S(x) =1 / (1 + e^{-x})$\n",
    "\n",
    "The output for logistic regression is given as: \n",
    "$ Y = \\beta_0+\\beta_1*x_1+\\beta_2*x_2+...+\\beta_n*x_n$   \n",
    "    \n",
    "    where, \n",
    "$ x_0, x_1 .... x_n $ are input features\n",
    "    \n",
    "$ \\beta_0, \\beta_1 ... \\beta_n$ are coefficients\n",
    "    \n",
    "Loistic Regression model can be expressed as : \n",
    "    \n",
    "$ logit(p_x) = log(p_x/(1-p_x) = \\beta_0 + \\beta_1x$ \n",
    " \n",
    "The assumptions made in logistic regression are : \n",
    "\n",
    "* Little or zero multilinearity among the input variables.\n",
    "* Input variables are linearly coupled with the log of odds.\n",
    "* Usually requires a large data sample to perform.\n",
    "    "
   ]
  },
  {
   "cell_type": "code",
   "execution_count": 196,
   "metadata": {},
   "outputs": [
    {
     "name": "stdout",
     "output_type": "stream",
     "text": [
      "LogisticRegression()\n"
     ]
    }
   ],
   "source": [
    "# Training the logistic regression model\n",
    "from sklearn.linear_model import LogisticRegression\n",
    "logistic_regression = LogisticRegression()\n",
    "print(logistic_regression.fit(x_train,y_train[0]))"
   ]
  },
  {
   "cell_type": "code",
   "execution_count": 101,
   "metadata": {},
   "outputs": [],
   "source": [
    "# Predictions of the model\n",
    "predictions_logistic_regression = logistic_regression.predict(x_test)"
   ]
  },
  {
   "cell_type": "markdown",
   "metadata": {},
   "source": [
    "## Confusion Matrix"
   ]
  },
  {
   "cell_type": "code",
   "execution_count": 102,
   "metadata": {},
   "outputs": [],
   "source": [
    "from sklearn import metrics\n",
    "from sklearn.metrics import classification_report,accuracy_score,confusion_matrix\n",
    "confusion_matrix_lr = metrics.confusion_matrix(y_test, predictions_logistic_regression)"
   ]
  },
  {
   "cell_type": "code",
   "execution_count": 188,
   "metadata": {
    "scrolled": true
   },
   "outputs": [
    {
     "data": {
      "image/png": "[encoded data removed]",
      "text/plain": [
       "<Figure size 432x288 with 2 Axes>"
      ]
     },
     "metadata": {
      "needs_background": "light"
     },
     "output_type": "display_data"
    }
   ],
   "source": [
    "# Plotting the confusion matrix \n",
    "class_names=[0,1] # name  of classes\n",
    "fig, ax = plt.subplots()\n",
    "tick_marks = np.arange(len(class_names))\n",
    "plt.xticks(tick_marks, class_names)\n",
    "plt.yticks(tick_marks, class_names)\n",
    "# create heatmap\n",
    "sns.heatmap(pd.DataFrame(confusion_matrix_lr), annot=True, cmap=\"YlGn\" ,fmt='g')\n",
    "ax.xaxis.set_label_position(\"top\")\n",
    "plt.tight_layout()\n",
    "plt.title('Confusion matrix for Logistic regression', y=1.1)\n",
    "plt.ylabel('Actual label')\n",
    "plt.xlabel('Predicted label')\n",
    "plt.show()"
   ]
  },
  {
   "cell_type": "markdown",
   "metadata": {},
   "source": [
    "The confusion matrix for logistic regression shows that the model misclassified more number of labels 1 in comparison to label 0. Also, the total number of misclassification is higher as compared to Naive Bayes model."
   ]
  },
  {
   "cell_type": "markdown",
   "metadata": {},
   "source": [
    "## Evaluation metrics"
   ]
  },
  {
   "cell_type": "code",
   "execution_count": 104,
   "metadata": {},
   "outputs": [
    {
     "name": "stdout",
     "output_type": "stream",
     "text": [
      "              precision    recall  f1-score   support\n",
      "\n",
      "           0       0.73      0.76      0.75      1594\n",
      "           1       0.72      0.68      0.70      1406\n",
      "\n",
      "    accuracy                           0.73      3000\n",
      "   macro avg       0.72      0.72      0.72      3000\n",
      "weighted avg       0.72      0.72      0.72      3000\n",
      "\n"
     ]
    }
   ],
   "source": [
    "print(classification_report(y_test,predictions_logistic_regression))"
   ]
  },
  {
   "cell_type": "code",
   "execution_count": 111,
   "metadata": {},
   "outputs": [
    {
     "name": "stdout",
     "output_type": "stream",
     "text": [
      "Accuracy for Logistic regression model: 0.725\n",
      "Precision for Logistic regression model: 0.7172774869109948\n",
      "Recall for Logistic regression model: 0.682076813655761\n",
      "F1 score for Logistic regression model: 0.6992344148742253\n"
     ]
    }
   ],
   "source": [
    "print(\"Accuracy for Logistic regression model:\",metrics.accuracy_score(y_test, predictions_logistic_regression))\n",
    "print(\"Precision for Logistic regression model:\",metrics.precision_score(y_test, predictions_logistic_regression))\n",
    "print(\"Recall for Logistic regression model:\",metrics.recall_score(y_test, predictions_logistic_regression))\n",
    "print(\"F1 score for Logistic regression model:\",metrics.f1_score(y_test, predictions_logistic_regression))"
   ]
  },
  {
   "cell_type": "markdown",
   "metadata": {},
   "source": [
    "## ROC curve "
   ]
  },
  {
   "cell_type": "code",
   "execution_count": 106,
   "metadata": {},
   "outputs": [],
   "source": [
    "#Plotting the ROC curve.\n",
    "from sklearn import metrics\n",
    "# calculate roc curve\n",
    "fpr_logistic_regression, tpr_logistic_regression, threshold = metrics.roc_curve(y_test, predictions_logistic_regression)\n",
    "roc_auc_lr = metrics.auc(fpr_logistic_regression, tpr_logistic_regression)"
   ]
  },
  {
   "cell_type": "code",
   "execution_count": 107,
   "metadata": {},
   "outputs": [
    {
     "data": {
      "image/png": "[encoded data removed]",
      "text/plain": [
       "<Figure size 432x288 with 1 Axes>"
      ]
     },
     "metadata": {
      "needs_background": "light"
     },
     "output_type": "display_data"
    },
    {
     "name": "stdout",
     "output_type": "stream",
     "text": [
      "AUC Logistic regeression : 0.72\n"
     ]
    }
   ],
   "source": [
    "plt.title('Receiver Operating Characteristic')\n",
    "#Roc curve for Logistic regeression \n",
    "plt.plot(fpr_logistic_regression, tpr_logistic_regression, 'b', label = \"Logistic regeression\")\n",
    "#Roc curve for Naive Bayes Model\n",
    "plt.plot(fpr_naive_bayes, tpr_naive_bayes,color='green',label='Naive bayes')\n",
    "#AUC for Naive bayes model\n",
    "plt.legend(loc = 'lower right')\n",
    "#No skill classifier\n",
    "plt.plot([0, 1], [0, 1],'y--')\n",
    "#plt.xlim([0, 1])\n",
    "#plt.ylim([0, 1])\n",
    "plt.ylabel('True Positive Rate')\n",
    "plt.xlabel('False Positive Rate')\n",
    "plt.show()\n",
    "# Calculating are under the curve for logistic regression\n",
    "print(\"AUC Logistic regeression : %.2f\"%roc_auc_lr)"
   ]
  },
  {
   "cell_type": "markdown",
   "metadata": {},
   "source": [
    "## K fold Cross Validation for Logistic Regression"
   ]
  },
  {
   "cell_type": "code",
   "execution_count": 201,
   "metadata": {},
   "outputs": [
    {
     "name": "stdout",
     "output_type": "stream",
     "text": [
      "[0.714  0.6985 0.7015 0.7015 0.692 ]\n"
     ]
    }
   ],
   "source": [
    "K_Fold_cv_lr=model_selection.KFold(shuffle=True,n_splits=5,random_state=7)\n",
    "K_Fold_cv_lr_acc=model_selection.cross_val_score(logistic_regression,Atlas_data,Atlas_labels[0],cv=5,scoring=\"accuracy\")\n",
    "print(K_Fold_cv_lr_acc)"
   ]
  },
  {
   "cell_type": "code",
   "execution_count": 109,
   "metadata": {},
   "outputs": [
    {
     "name": "stdout",
     "output_type": "stream",
     "text": [
      "Average Accuracy Logistic Regression model  0.7015\n",
      "The model variance is 0.007\n"
     ]
    }
   ],
   "source": [
    "print(\"Average Accuracy Logistic Regression model \", K_Fold_cv_lr_acc.mean())\n",
    "print(\"Model variance is %.3f\"%np.std(K_Fold_cv_lr_acc))"
   ]
  },
  {
   "cell_type": "markdown",
   "metadata": {},
   "source": [
    "# Conclusions \n",
    "\n",
    "    \n",
    "<b>    \n",
    "* The accuracy for Naive Bayes classifier and Logistic Regression classifier is 74.9% and 72.5% respectively. Although the performance of both models is alike, Naive Bayes classifer performed marginally better.\n",
    "\n",
    "* The precision for Naive Bayes model is 0.709 which is almost equal to the precision value of 0.717 for logistic regression model. \n",
    "    \n",
    "* The recall value of naive bayes model (0.788) is higher than that of logistic regression model (0.682).\n",
    "    \n",
    "* The F1 score of naive bayes model (0.747) is higher than the F1 score of logistic regression model (0.699).\n",
    "    \n",
    "* The average accuracy after applying K-fold cross validation is also better for naive bayes model.\n",
    "    \n",
    "* The AUC value for naive bayes (0.75) si better than the AUC value of logistic regression model (0.72).\n",
    "    \n",
    "* The model variance for naive bayes model (0.005) is lower than the model variance for logistic regression (0.007)\n",
    "    \n",
    "From the above assessment, we can conclude that the Naive Bayes classifier is the optimum model for classifiction."
   ]
  }
 ],
 "metadata": {
  "kernelspec": {
   "display_name": "Python 3",
   "language": "python",
   "name": "python3"
  },
  "language_info": {
   "codemirror_mode": {
    "name": "ipython",
    "version": 3
   },
   "file_extension": ".py",
   "mimetype": "text/x-python",
   "name": "python",
   "nbconvert_exporter": "python",
   "pygments_lexer": "ipython3",
   "version": "3.8.3"
  }
 },
 "nbformat": 4,
 "nbformat_minor": 4
}
